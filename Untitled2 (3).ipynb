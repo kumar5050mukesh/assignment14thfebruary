{
 "cells": [
  {
   "cell_type": "code",
   "execution_count": null,
   "id": "f1e4ac52-d829-4445-8057-4057de21ebc8",
   "metadata": {},
   "outputs": [],
   "source": [
    "# what is multithreading in python? hy is it used? Name the module used to handle threads in python\n",
    "\n",
    "multithreading means running multiple process at the single core it thus utilises the core and \n",
    "thus the full power of cpu is utlised\n",
    "\n",
    "the main use of multithtreading is that the resources does not gets wasted \n",
    "the use of the cpu is maximised \n",
    "\n",
    "name the module is threading that is imported."
   ]
  },
  {
   "cell_type": "code",
   "execution_count": 20,
   "id": "a3d1c125-70ed-4437-9d3a-d31122d61ee3",
   "metadata": {},
   "outputs": [
    {
     "name": "stdout",
     "output_type": "stream",
     "text": [
      "the sum of the numbers is  14\n",
      "the diffrence of the numbers is  4\n",
      "the sum of the numbers is  6\n",
      "the diffrence of the numbers is  2\n",
      "total number of active thred is  8\n",
      "the current working  <_MainThread(MainThread, started 140077859936064)>\n",
      "list of all the threads that are active  [<_MainThread(MainThread, started 140077859936064)>, <Thread(IOPub, started daemon 140077789406784)>, <Heartbeat(Heartbeat, started daemon 140077781014080)>, <Thread(Thread-3 (_watch_pipe_fd), started daemon 140077755835968)>, <Thread(Thread-4 (_watch_pipe_fd), started daemon 140077405566528)>, <ControlThread(Control, started daemon 140077397173824)>, <HistorySavingThread(IPythonHistorySavingThread, started 140077388781120)>, <ParentPollerUnix(Thread-2, started daemon 140077380388416)>]\n"
     ]
    },
    {
     "name": "stderr",
     "output_type": "stream",
     "text": [
      "/tmp/ipykernel_77/956559815.py:25: DeprecationWarning: activeCount() is deprecated, use active_count() instead\n",
      "  print('total number of active thred is ', threading.activeCount())\n",
      "/tmp/ipykernel_77/956559815.py:26: DeprecationWarning: currentThread() is deprecated, use current_thread() instead\n",
      "  print('the current working ', threading.currentThread())\n"
     ]
    }
   ],
   "source": [
    "''' why threading module used? write the use of the following functions\n",
    "( activeCount\n",
    " currentThread\n",
    " enumerate)'''\n",
    "\n",
    "\n",
    "\n",
    "\n",
    "import threading\n",
    "\n",
    "class Ther(threading.Thread):\n",
    "    def __init__(self, x, y):\n",
    "        super().__init__()\n",
    "        self.x = x\n",
    "        self.y = y\n",
    "\n",
    "    def run(self):\n",
    "        self.sums()\n",
    "        self.subs()\n",
    "\n",
    "    def sums(self):\n",
    "        print('the sum of the numbers is ', self.x + self.y)\n",
    "\n",
    "    def subs(self):\n",
    "        print('the diffrence of the numbers is ', self.x - self.y)\n",
    "\n",
    "obj1 = Ther(9, 5)\n",
    "obj2 = Ther(4, 2)\n",
    "\n",
    "obj1.start()\n",
    "obj2.start()\n",
    "\n",
    "print('total number of active thred is ', threading.activeCount())\n",
    "print('the current working ', threading.currentThread())\n",
    "print('list of all the threads that are active ', threading.enumerate())\n",
    "\n",
    "threading module is used to run run multiple processess within the core thus utlising the resources fully well\n",
    "here the start method is used to create the thread and the run method is \n",
    "used to create the execute the code using run method of the thread class."
   ]
  },
  {
   "cell_type": "code",
   "execution_count": null,
   "id": "8755018c-20bd-4e44-a2b8-2ba00f878d58",
   "metadata": {},
   "outputs": [],
   "source": [
    "''' Explain the following functions\n",
    "( run\n",
    " start\n",
    " join\n",
    "isAlive)'''\n",
    "run method is use to execute the function when the start method is called it automatically executes the run method\n",
    "\n",
    "\n",
    "start is used to create the diffrent thread\n",
    "\n",
    "\n",
    "join method is used to end the execution of the thread \n",
    "\n",
    "is alive is the method is used to check whether current is active or not\n"
   ]
  },
  {
   "cell_type": "code",
   "execution_count": 18,
   "id": "52e11e09-7fb9-4502-9f47-b2af240ebf4a",
   "metadata": {},
   "outputs": [
    {
     "name": "stdout",
     "output_type": "stream",
     "text": [
      "the square is  25\n",
      "the cube is 125\n",
      "Number of active threads: 8\n",
      "my name is mukesh\n"
     ]
    }
   ],
   "source": [
    "# write a python program to create two threads. Thread one must print the list of squares and thread\n",
    "#two must print the list of cubes\n",
    "\n",
    "import threading\n",
    "\n",
    "class Thread1(threading.Thread):\n",
    "    def __init__(self, x):\n",
    "        super().__init__()\n",
    "        self.x = x\n",
    "\n",
    "    def run(self):\n",
    "        print('the square is ', self.x**2)\n",
    "\n",
    "class Thread2(threading.Thread):\n",
    "    def __init__(self, x):\n",
    "        super().__init__()\n",
    "        self.x = x\n",
    "\n",
    "    def run(self):\n",
    "        print('the cube is' , self.x**3)\n",
    "\n",
    "obj1 = Thread1(5)\n",
    "obj2 = Thread2(5)\n",
    "\n",
    "obj1.start()\n",
    "obj2.start()\n",
    "\n",
    "print('Number of active threads:', threading.active_count())\n",
    "\n",
    "\n",
    "obj1.join()\n",
    "obj2.join()\n",
    "\n",
    "\n",
    "\n",
    "print('my name is mukesh')\n",
    "\n",
    "\n",
    "'''print will execute only when both the thread of the obj1 and obj2 have completed their task'''\n"
   ]
  },
  {
   "cell_type": "code",
   "execution_count": 19,
   "id": "1cbe854c-fb2c-4c53-af12-1822bdd2240d",
   "metadata": {},
   "outputs": [
    {
     "data": {
      "text/plain": [
       "'the advantage of the multithreading is that it helps in optimum use of the resources\\nand the disadvantage is that there may be collisions that has to be handled carefully'"
      ]
     },
     "execution_count": 19,
     "metadata": {},
     "output_type": "execute_result"
    }
   ],
   "source": [
    "# State advantages and disadvantages of multithreading\n",
    "\n",
    "'''the advantage of the multithreading is that it helps in optimum use of the resources\n",
    "and the disadvantage is that there may be collisions that has to be handled carefully'''"
   ]
  },
  {
   "cell_type": "code",
   "execution_count": null,
   "id": "8c734317-66d8-49b7-b835-a1efe2218706",
   "metadata": {},
   "outputs": [],
   "source": [
    "# Explain deadlocks and race conditions.\n",
    "\n",
    "deadlock can occur when there is resources used by one process is not correctly passed and the process go \n",
    "in deadlock for the resources but in the race condition both the processess are run simulataneously\n",
    "resulting in the unpredicatable behavoir and output \n",
    "\n"
   ]
  }
 ],
 "metadata": {
  "kernelspec": {
   "display_name": "Python 3 (ipykernel)",
   "language": "python",
   "name": "python3"
  },
  "language_info": {
   "codemirror_mode": {
    "name": "ipython",
    "version": 3
   },
   "file_extension": ".py",
   "mimetype": "text/x-python",
   "name": "python",
   "nbconvert_exporter": "python",
   "pygments_lexer": "ipython3",
   "version": "3.10.8"
  }
 },
 "nbformat": 4,
 "nbformat_minor": 5
}
